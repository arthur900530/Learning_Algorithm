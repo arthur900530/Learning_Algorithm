{
 "cells": [
  {
   "cell_type": "code",
   "execution_count": 1,
   "id": "63f38457",
   "metadata": {},
   "outputs": [],
   "source": [
    "import read_data_utils as utils\n",
    "import regression_weight_tuning_EU_LG_UA as EU_LG_UA\n",
    "import reorganization as reorg"
   ]
  },
  {
   "cell_type": "code",
   "execution_count": 2,
   "id": "55dbfd95",
   "metadata": {},
   "outputs": [],
   "source": [
    "import sys\n",
    "import copy\n",
    "import torch\n",
    "import torch.nn as nn\n",
    "import numpy as np\n",
    "import matplotlib.pyplot as plt\n",
    "import torch.nn.functional as F\n",
    "from torch.utils.data import Dataset, DataLoader"
   ]
  },
  {
   "cell_type": "code",
   "execution_count": 3,
   "id": "fc0c42dc",
   "metadata": {},
   "outputs": [],
   "source": [
    "file = 'train_all_0.csv'\n",
    "dataloaders, dataset_sizes = utils.read_data(file, batch_size=4, mode='mse')\n",
    "device = torch.device(\"cuda:0\" if torch.cuda.is_available() else \"cpu\")"
   ]
  },
  {
   "cell_type": "code",
   "execution_count": null,
   "id": "9bcf5ac6",
   "metadata": {
    "scrolled": true
   },
   "outputs": [],
   "source": [
    "model = nn.Sequential(\n",
    "      nn.Linear(12,128),\n",
    "      nn.ReLU(),\n",
    "      nn.Linear(128,1)).to(device)\n",
    "\n",
    "# model.load_state_dict(torch.load('../acceptable_weights/before_reorg.pt'))\n",
    "\n",
    "criterion = nn.MSELoss()\n",
    "\n",
    "train_result = EU_LG_UA.train_model(model, criterion, dataloaders, dataset_sizes, device,\n",
    "                                    PATH = '../weights/train_checkpoint.pt', epsilon = 1e-6, num_epochs=50, n=5)\n",
    "\n",
    "if train_result['result']:\n",
    "    print('Acceptable SLFN')\n",
    "    torch.save(model.state_dict(), '../acceptable_weights/before_reorg.pt')\n",
    "#     model.load_state_dict(torch.load('../acceptable_weights/before_reorg.pt'))\n",
    "    reorg_result, p = reorg.reorg_model(model, criterion, dataloaders, dataset_sizes, device, \n",
    "                                      PATH='../weights/reorg_checkpoint.pt', lr_epsilon=1e-6 , n=5, rs=0.001)\n",
    "    print(reorg_result, p)\n",
    "    torch.save(result, f'../acceptable_weights/after_reorganized_{p}.pt')\n",
    "else:\n",
    "    print('Unacceptable SLFN')"
   ]
  },
  {
   "cell_type": "code",
   "execution_count": null,
   "id": "ddfa7b75",
   "metadata": {},
   "outputs": [],
   "source": []
  }
 ],
 "metadata": {
  "kernelspec": {
   "display_name": "Python 3 (ipykernel)",
   "language": "python",
   "name": "python3"
  },
  "language_info": {
   "codemirror_mode": {
    "name": "ipython",
    "version": 3
   },
   "file_extension": ".py",
   "mimetype": "text/x-python",
   "name": "python",
   "nbconvert_exporter": "python",
   "pygments_lexer": "ipython3",
   "version": "3.8.12"
  }
 },
 "nbformat": 4,
 "nbformat_minor": 5
}
