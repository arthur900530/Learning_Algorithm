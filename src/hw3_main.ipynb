{
 "cells": [
  {
   "cell_type": "code",
   "execution_count": 1,
   "id": "513b731a",
   "metadata": {},
   "outputs": [],
   "source": [
    "import read_data_utils as utils\n",
    "import regression_weight_tuning_EU_LG_UA as EU_LG_UA\n",
    "import reorganization as reorg"
   ]
  },
  {
   "cell_type": "code",
   "execution_count": 2,
   "id": "44c2285e",
   "metadata": {},
   "outputs": [],
   "source": [
    "import sys\n",
    "import copy\n",
    "import torch\n",
    "import torch.nn as nn\n",
    "import numpy as np\n",
    "import matplotlib.pyplot as plt\n",
    "import torch.nn.functional as F\n",
    "from torch.utils.data import Dataset, DataLoader"
   ]
  },
  {
   "cell_type": "code",
   "execution_count": 3,
   "id": "0baf1618",
   "metadata": {},
   "outputs": [],
   "source": [
    "file = 'train_all_0.csv'\n",
    "dataloaders, dataset_sizes = utils.read_data(file, batch_size=8, mode='mse')\n",
    "device = torch.device(\"cuda:0\" if torch.cuda.is_available() else \"cpu\")"
   ]
  },
  {
   "cell_type": "code",
   "execution_count": null,
   "id": "4e020047",
   "metadata": {},
   "outputs": [],
   "source": [
    "model = nn.Sequential(\n",
    "      nn.Linear(12,128),\n",
    "      nn.ReLU(),\n",
    "      nn.Linear(128,1),\n",
    "      nn.ReLU()).to(device)\n",
    "\n",
    "# model.load_state_dict(torch.load('/content/drive/MyDrive/新型學習演算法/hw3/acceptable_weights/a_regression.pt'))\n",
    "\n",
    "criterion = nn.MSELoss()\n",
    "\n",
    "optimizer = torch.optim.SGD(model.parameters(), lr=1e-3)\n",
    "\n",
    "train_result = EU_LG_UA.train_model(model, criterion, optimizer, \n",
    "                  dataloaders, dataset_sizes, device,\n",
    "                  PATH = '../weights/train_checkpoint.pt', \n",
    "                  epsilon = 1e-8,\n",
    "                  num_epochs=50, n=10)\n",
    "\n",
    "if train_result['result']:\n",
    "  torch.save(model.state_dict(), '../acceptable_weights/before_reorg.pt')\n",
    "  reorg_result, p = reorg.reorg_model(model, criterion, optimizer, dataloaders, dataset_sizes, device, lr_epsilon=1e-8 , n=10, rs=0.001)\n",
    "\n",
    "torch.save(result, f'../acceptable_weights/after_reorganized_{p}.pt')"
   ]
  },
  {
   "cell_type": "code",
   "execution_count": null,
   "id": "15277dba",
   "metadata": {},
   "outputs": [],
   "source": []
  }
 ],
 "metadata": {
  "kernelspec": {
   "display_name": "Python 3 (ipykernel)",
   "language": "python",
   "name": "python3"
  },
  "language_info": {
   "codemirror_mode": {
    "name": "ipython",
    "version": 3
   },
   "file_extension": ".py",
   "mimetype": "text/x-python",
   "name": "python",
   "nbconvert_exporter": "python",
   "pygments_lexer": "ipython3",
   "version": "3.8.12"
  }
 },
 "nbformat": 4,
 "nbformat_minor": 5
}
